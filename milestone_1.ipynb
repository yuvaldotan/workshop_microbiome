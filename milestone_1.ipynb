{
 "cells": [
  {
   "cell_type": "code",
   "execution_count": 1,
   "metadata": {},
   "outputs": [],
   "source": [
    "import pandas as pd\n",
    "from matplotlib import pyplot as plt\n",
    "import numpy as np\n",
    "import seaborn as sns\n",
    "from tqdm import tqdm\n",
    "from skbio.diversity import beta_diversity\n",
    "from skbio.stats.ordination import pcoa\n",
    "from scipy.spatial.distance import braycurtis\n",
    "import plotly_express as px"
   ]
  },
  {
   "cell_type": "code",
   "execution_count": 2,
   "metadata": {},
   "outputs": [],
   "source": [
    "metadata_df = pd.read_csv(\"train_metadata.csv\", index_col=\"sample\")\n",
    "data_df = pd.read_csv(\"train_data.csv\",  index_col=\"sample\")"
   ]
  },
  {
   "cell_type": "markdown",
   "metadata": {},
   "source": [
    "## basic overview"
   ]
  },
  {
   "cell_type": "markdown",
   "metadata": {},
   "source": [
    "How many samples do we have from each subject?"
   ]
  },
  {
   "cell_type": "code",
   "execution_count": 3,
   "metadata": {},
   "outputs": [
    {
     "name": "stdout",
     "output_type": "stream",
     "text": [
      "we have 80 baboons in the train data\n",
      "76.2 samples per baboon on average\n"
     ]
    },
    {
     "data": {
      "text/plain": [
       "Text(0.5, 1.0, 'Number of Samples per Baboon')"
      ]
     },
     "execution_count": 3,
     "metadata": {},
     "output_type": "execute_result"
    },
    {
     "data": {
      "image/png": "[encoded data removed]",
      "text/plain": [
       "<Figure size 640x480 with 1 Axes>"
      ]
     },
     "metadata": {},
     "output_type": "display_data"
    }
   ],
   "source": [
    "baboons = metadata_df.groupby(\"baboon_id\").count()[\"collection_date\"]\n",
    "print(f\"we have {len(baboons)} baboons in the train data\")\n",
    "print(f\"{baboons.mean()} samples per baboon on average\")\n",
    "sns.histplot(baboons, binwidth=10, binrange=(40, 130))\n",
    "plt.xlabel(\"number of samples\")\n",
    "plt.ylabel(\"number of baboons\")\n",
    "plt.title(\"Number of Samples per Baboon\")"
   ]
  },
  {
   "cell_type": "markdown",
   "metadata": {},
   "source": [
    "What is the time difference between them?"
   ]
  },
  {
   "cell_type": "code",
   "execution_count": 4,
   "metadata": {},
   "outputs": [],
   "source": [
    "metadata_df[\"collection_date\"] = (pd.to_datetime(metadata_df['collection_date']) - pd.Timestamp('1970-01-01')).dt.days\n",
    "metadata_df.sort_values(by=[\"baboon_id\", \"collection_date\"], inplace=True)\n",
    "ls = []\n",
    "ds = []\n",
    "for baboon in metadata_df[\"baboon_id\"].unique():\n",
    "    curr = metadata_df[metadata_df[\"baboon_id\"] == baboon][\"collection_date\"].values\n",
    "    ls.append(np.nan)\n",
    "    for i in range(len(curr)-1):\n",
    "        ds.append(curr[i+1]-curr[i])\n",
    "        ls.append(curr[i+1]-curr[i])\n",
    "\n",
    "ds = np.array(ds)"
   ]
  },
  {
   "cell_type": "code",
   "execution_count": 5,
   "metadata": {},
   "outputs": [
    {
     "data": {
      "text/plain": [
       "Text(0.5, 0, 'time difference between 2 subsequent samples (days)')"
      ]
     },
     "execution_count": 5,
     "metadata": {},
     "output_type": "execute_result"
    }
   ],
   "source": [
    "sns.histplot(ds)\n",
    "max_time = max(ds) \n",
    "for i in range(365//2,max_time,365//2):\n",
    "    plt.vlines(x= i, ymin=0, ymax = 1000, color=\"black\")\n",
    "\n",
    "plt.yscale(\"log\")\n",
    "plt.xlabel(\"time difference between 2 subsequent samples (days)\")"
   ]
  },
  {
   "cell_type": "code",
   "execution_count": null,
   "metadata": {},
   "outputs": [],
   "source": [
    "indexes_list = []\n",
    "visited = set()\n",
    "for index, row in metadata_df.iterrows():\n",
    "    if not (index in visited):\n",
    "        collection_date = row['collection_date']\n",
    "        baboon_id = row['baboon_id']\n",
    "        matching_indexes = metadata_df[(metadata_df['collection_date'] == collection_date) & (metadata_df['baboon_id'] == baboon_id)].index.tolist()\n",
    "        visited.update(matching_indexes)\n",
    "\n",
    "    indexes_list.append(matching_indexes)\n",
    "indexes_list = [index for index in indexes_list if len(index) > 1]"
   ]
  },
  {
   "cell_type": "code",
   "execution_count": null,
   "metadata": {},
   "outputs": [],
   "source": [
    "from scipy.spatial.distance import braycurtis\n",
    "import numpy as np\n",
    "bray_curtis_distances = []\n",
    "\n",
    "for indexes in indexes_list:\n",
    "    for row1 in data_df.loc[indexes].iterrows():\n",
    "        for row2 in data_df.loc[indexes].iterrows():\n",
    "            if row1[0] != row2[0]:\n",
    "                distance = braycurtis(row1[1], row2[1])\n",
    "                bray_curtis_distances.append(distance)\n",
    "\n",
    "bray_curtis_distances = np.array(bray_curtis_distances)\n",
    "sns.kdeplot(bray_curtis_distances)\n",
    "plt.xlabel(\"Bray Curtis Distance\")\n",
    "plt.ylabel(\"Density\")\n",
    "plt.title(\"Bray Curtis Distance Distribution\")\n",
    "plt.vlines(x = bray_curtis_distances.mean(), ymin=0, ymax=4.5, color=\"red\", label=\"mean\")\n",
    "plt.vlines(x = np.median(bray_curtis_distances) + bray_curtis_distances.std(), ymin=0, ymax=4.5, color=\"green\", label=\"median\")\n",
    "\n",
    "\n",
    "\n",
    "lower_bound = np.quantile(bray_curtis_distances, 0.025)\n",
    "upper_bound = np.quantile(bray_curtis_distances, 0.975)\n",
    "\n",
    "plt.vlines(x = lower_bound, ymin=0, ymax=4.5, color=\"blue\", label=\"95% confidence interval\")\n",
    "plt.vlines(x = upper_bound, ymin=0, ymax=4.5, color=\"blue\")\n",
    "\n",
    "plt.legend()\n",
    "plt.show()"
   ]
  },
  {
   "cell_type": "markdown",
   "metadata": {},
   "source": [
    "## Microbiome Ordination"
   ]
  },
  {
   "cell_type": "markdown",
   "metadata": {},
   "source": [
    "Calculate Bray-Curtis distances between all microbiome samples and plot PCoA"
   ]
  },
  {
   "cell_type": "code",
   "execution_count": null,
   "metadata": {},
   "outputs": [],
   "source": [
    "d = {baboon : i for i,baboon in enumerate(metadata_df[\"baboon_id\"].unique())}\n",
    "lables = [d[baboon] for baboon in metadata_df.loc[data_df.index][\"baboon_id\"].values]\n"
   ]
  },
  {
   "cell_type": "code",
   "execution_count": null,
   "metadata": {},
   "outputs": [],
   "source": [
    "dist_matrix = beta_diversity(braycurtis, data_df.values)\n",
    "ordination = pcoa(dist_matrix)\n",
    "pc_scores = ordination.samples\n",
    "pc_scores"
   ]
  },
  {
   "cell_type": "code",
   "execution_count": null,
   "metadata": {},
   "outputs": [],
   "source": [
    "px.scatter_3d(pc_scores.iloc[:,:3], x=\"PC1\", y=\"PC2\", z=\"PC3\", color=lables)\n"
   ]
  },
  {
   "cell_type": "code",
   "execution_count": null,
   "metadata": {},
   "outputs": [],
   "source": [
    "microbiom_with_sample_data = data_df.join(metadata_df[[\"baboon_id\", \"collection_date\"]], how=\"inner\")\n",
    "microbiom_with_sample_data = microbiom_with_sample_data.sort_values([\"baboon_id\", \"collection_date\"])"
   ]
  },
  {
   "cell_type": "code",
   "execution_count": null,
   "metadata": {},
   "outputs": [],
   "source": [
    "microbiom_with_sample_data"
   ]
  },
  {
   "cell_type": "code",
   "execution_count": null,
   "metadata": {},
   "outputs": [],
   "source": [
    "ls = []\n",
    "days =[]\n",
    "label = []\n",
    "for idx in range(len(microbiom_with_sample_data)-1):\n",
    "    curr = microbiom_with_sample_data.iloc[[idx]].values.reshape(-1)\n",
    "    next = microbiom_with_sample_data.iloc[[idx+1]].values.reshape(-1)\n",
    "    if(curr[-2] == next[-2]):    \n",
    "        ls.append(braycurtis(curr[:-2],next[:-2]))\n",
    "        label.append(curr[-2])\n",
    "        days.append(next[-1] - curr[-1])\n",
    "ls = np.array(ls)"
   ]
  },
  {
   "cell_type": "code",
   "execution_count": null,
   "metadata": {},
   "outputs": [],
   "source": [
    "print(f\"calculate average distance between subsequent samples: {ls.mean()}\")"
   ]
  },
  {
   "cell_type": "code",
   "execution_count": null,
   "metadata": {},
   "outputs": [],
   "source": [
    "\n",
    "\n",
    "ls = np.array(ls)\n",
    "sns.kdeplot(ls)\n",
    "plt.xlabel(\"Bray Curtis Distance\")\n",
    "plt.ylabel(\"Density\")\n",
    "plt.title(\"Bray Curtis Distance Distribution\")\n",
    "plt.vlines(x = ls.mean(), ymin=0, ymax=2.5, color=\"red\", label=\"mean\")\n",
    "plt.vlines(x = np.median(ls), ymin=0, ymax=2.5, color=\"green\", label=\"median\")\n",
    "\n",
    "\n",
    "\n",
    "lower_bound = np.quantile(ls, 0.025)\n",
    "upper_bound = np.quantile(ls, 0.975)\n",
    "\n",
    "plt.vlines(x = lower_bound, ymin=0, ymax=2.5, color=\"blue\", label=\"95% confidence interval\")\n",
    "plt.vlines(x = upper_bound, ymin=0, ymax=2.5, color=\"blue\")\n",
    "\n",
    "plt.legend()\n",
    "plt.show()"
   ]
  },
  {
   "cell_type": "code",
   "execution_count": null,
   "metadata": {},
   "outputs": [],
   "source": [
    "mean_baboon = microbiom_with_sample_data.groupby(\"baboon_id\").mean()\n",
    "mean_baboon.drop(columns=[\"collection_date\"], inplace=True)\n",
    "\n",
    "bc_scores = []\n",
    "for baboon in mean_baboon.index:\n",
    "    baboon_samples = metadata_df[metadata_df[\"baboon_id\"]==baboon].index\n",
    "    baboon_bc = [braycurtis(mean_baboon.loc[baboon].values,data_df.loc[sample]) for sample in baboon_samples]\n",
    "    bc_scores.extend(baboon_bc)"
   ]
  },
  {
   "cell_type": "code",
   "execution_count": null,
   "metadata": {},
   "outputs": [],
   "source": [
    "bc_scores = np.array(bc_scores)\n",
    "\n",
    "sns.kdeplot(bc_scores)\n",
    "plt.xlabel(\"Bray Curtis Distance\")\n",
    "plt.ylabel(\"Density\")\n",
    "plt.title(\"Bray Curtis Distance Distribution\")\n",
    "plt.vlines(x = bc_scores.mean(), ymin=0, ymax=4, color=\"red\", label=\"mean\")\n",
    "plt.vlines(x = np.median(bc_scores) , ymin=0, ymax=4, color=\"green\", label=\"median\")\n",
    "\n",
    "\n",
    "\n",
    "lower_bound = np.quantile(bc_scores, 0.025)\n",
    "upper_bound = np.quantile(bc_scores, 0.975)\n",
    "\n",
    "plt.vlines(x = lower_bound, ymin=0, ymax=4, color=\"blue\", label=\"95% confidence interval\")\n",
    "plt.vlines(x = upper_bound, ymin=0, ymax=4, color=\"blue\")\n",
    "\n",
    "plt.legend()\n",
    "plt.show()"
   ]
  },
  {
   "cell_type": "code",
   "execution_count": null,
   "metadata": {},
   "outputs": [],
   "source": [
    "px.histogram()\n",
    "import matplotlib.pyplot as plt\n",
    "\n",
    "# Create interactive histogram\n",
    "plt.hist(bray_curtis_distances, bins='auto')\n",
    "plt.xlabel('Bray-Curtis Distances')\n",
    "plt.ylabel('Frequency')\n",
    "plt.title('Histogram of Bray-Curtis Distances')\n",
    "\n",
    "# Add interactive functionality\n",
    "plt.axvline(x=days, color='r', linestyle='--', label='Selected Value')\n",
    "plt.legend()\n",
    "\n",
    "# Show the plot\n",
    "plt.show()\n"
   ]
  }
 ],
 "metadata": {
  "kernelspec": {
   "display_name": "Python 3",
   "language": "python",
   "name": "python3"
  },
  "language_info": {
   "codemirror_mode": {
    "name": "ipython",
    "version": 3
   },
   "file_extension": ".py",
   "mimetype": "text/x-python",
   "name": "python",
   "nbconvert_exporter": "python",
   "pygments_lexer": "ipython3",
   "version": "3.11.8"
  }
 },
 "nbformat": 4,
 "nbformat_minor": 2
}
