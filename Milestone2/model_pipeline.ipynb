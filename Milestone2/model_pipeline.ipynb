{
 "cells": [
  {
   "cell_type": "code",
   "execution_count": 1,
   "metadata": {},
   "outputs": [
    {
     "data": {
      "text/plain": [
       "<module 'model_class' from '/home/jupyter-tomeroron/baboons/model_class.py'>"
      ]
     },
     "execution_count": 1,
     "metadata": {},
     "output_type": "execute_result"
    }
   ],
   "source": [
    "from importlib import reload \n",
    "import sys\n",
    "import pandas as pd\n",
    "import numpy as np\n",
    "from scipy.stats import pearsonr, spearmanr, kendalltau\n",
    "import plotly.express as px\n",
    "import matplotlib.pyplot as plt\n",
    "from scipy.optimize import minimize\n",
    "from scipy.spatial.distance import braycurtis\n",
    "from scipy.special import softmax\n",
    "import seaborn as sns\n",
    "# # adding Folder_2 to the system path\n",
    "# sys.path.insert(0, r'C:\\Users\\tomer\\Desktop\\BSc\\year3\\sem B\\workshop_microbiome\\code')\n",
    "# # sys.path.insert(0, r'C:\\Users\\yuvald\\Documents\\Uni\\סמסטר ב\\workshop_microbiome\\code')\n",
    "\n",
    "from imports import  *\n",
    "\n",
    "import model_class\n",
    "reload(model_class)\n"
   ]
  },
  {
   "cell_type": "markdown",
   "metadata": {},
   "source": [
    "$$f(D,\\Delta_t) = \\alpha e^{-\\lambda \\Delta_t} \\cdot \\cos\\left(\\frac{2 \\pi \\Delta_t}{365}\\right) D_{t-1} + \\left(1 - \\alpha e^{-\\lambda \\Delta_t} \\cdot \\cos\\left(\\frac{2 \\pi \\Delta_t}{365}\\right)\\right) \\cdot \\overline{\\{D_1,...,D_{t-2}\\}}$$"
   ]
  },
  {
   "cell_type": "code",
   "execution_count": 2,
   "metadata": {},
   "outputs": [
    {
     "data": {
      "text/plain": [
       "<module 'model_class' from '/home/jupyter-tomeroron/baboons/model_class.py'>"
      ]
     },
     "execution_count": 2,
     "metadata": {},
     "output_type": "execute_result"
    }
   ],
   "source": [
    "import model_class\n",
    "reload(model_class)\n"
   ]
  },
  {
   "cell_type": "code",
   "execution_count": 3,
   "metadata": {},
   "outputs": [],
   "source": [
    "data_path = r\"train_data.csv\"\n",
    "metadata_path = r\"train_metadata.csv\""
   ]
  },
  {
   "cell_type": "code",
   "execution_count": 4,
   "metadata": {},
   "outputs": [],
   "source": [
    "metadata_df = pd.read_csv(metadata_path)"
   ]
  },
  {
   "cell_type": "code",
   "execution_count": 5,
   "metadata": {},
   "outputs": [
    {
     "data": {
      "text/plain": [
       "Index(['sample', 'baboon_id', 'collection_date', 'sex', 'age', 'social_group',\n",
       "       'group_size', 'rain_month_mm', 'season', 'hydro_year', 'month',\n",
       "       'diet_PC1', 'diet_PC2', 'diet_PC3', 'diet_PC4', 'diet_PC5', 'diet_PC6',\n",
       "       'diet_PC7', 'diet_PC8', 'diet_PC9', 'diet_PC10', 'diet_PC11',\n",
       "       'diet_PC12', 'diet_PC13'],\n",
       "      dtype='object')"
      ]
     },
     "execution_count": 5,
     "metadata": {},
     "output_type": "execute_result"
    }
   ],
   "source": [
    "metadata_df.columns"
   ]
  },
  {
   "cell_type": "code",
   "execution_count": 6,
   "metadata": {},
   "outputs": [
    {
     "data": {
      "text/plain": [
       "array(['g_1.22', 'g_2.2', 'g_1.1', 'g_1.12', 'g_1.21', 'g_1.211',\n",
       "       'g_1.11', 'g_2.1', 'g_2.12', 'g_2.11'], dtype=object)"
      ]
     },
     "execution_count": 6,
     "metadata": {},
     "output_type": "execute_result"
    }
   ],
   "source": [
    "metadata_df.social_group.unique()"
   ]
  },
  {
   "cell_type": "code",
   "execution_count": 7,
   "metadata": {},
   "outputs": [],
   "source": [
    "# data_df = pd.read_csv(r\"C:\\Users\\yuvald\\Documents\\Uni\\סמסטר ב\\workshop_microbiome\\train_data.csv\", index_col=\"sample\")\n",
    "# metadata_df = pd.read_csv(r\"C:\\Users\\yuvald\\Documents\\Uni\\סמסטר ב\\workshop_microbiome\\train_metadata.csv\",  index_col=\"sample\")"
   ]
  },
  {
   "cell_type": "code",
   "execution_count": 8,
   "metadata": {},
   "outputs": [],
   "source": [
    "super_model = model_class.superModel(data_path, metadata_path)"
   ]
  },
  {
   "cell_type": "code",
   "execution_count": 19,
   "metadata": {},
   "outputs": [
    {
     "name": "stdout",
     "output_type": "stream",
     "text": [
      "for lambda = 0.0 the objective function is 0.3670651575037061\n",
      "for lambda = 1e-08 the objective function is 0.3670651575037061\n",
      "for lambda = 0.0 the objective function is 0.3670651575037061\n"
     ]
    },
    {
     "data": {
      "text/plain": [
       "10940.704362630844"
      ]
     },
     "execution_count": 19,
     "metadata": {},
     "output_type": "execute_result"
    }
   ],
   "source": [
    "import time\n",
    "start = time.time()\n",
    "super_model.fit()\n",
    "time.time() - start"
   ]
  },
  {
   "cell_type": "code",
   "execution_count": 10,
   "metadata": {},
   "outputs": [],
   "source": [
    "# for baboon in super_model.baboons:\n",
    "#     baboon.alpha_ = np.zeros([61,61])\n",
    "#     baboon.beta_ = np.eye(61,61)\n",
    "\n"
   ]
  },
  {
   "cell_type": "code",
   "execution_count": 11,
   "metadata": {},
   "outputs": [],
   "source": [
    "baboon_101 = super_model.baboons[0]"
   ]
  },
  {
   "cell_type": "code",
   "execution_count": 12,
   "metadata": {},
   "outputs": [
    {
     "data": {
      "text/plain": [
       "(array([[0., 0., 0., ..., 0., 0., 0.],\n",
       "        [0., 0., 0., ..., 0., 0., 0.],\n",
       "        [0., 0., 0., ..., 0., 0., 0.],\n",
       "        ...,\n",
       "        [0., 0., 0., ..., 0., 0., 0.],\n",
       "        [0., 0., 0., ..., 0., 0., 0.],\n",
       "        [0., 0., 0., ..., 0., 0., 0.]]),\n",
       " array([[ 9.99560751e-01, -7.52734711e-05, -6.95880161e-05, ...,\n",
       "         -2.14871154e-05, -1.26788573e-04, -5.54778395e-05],\n",
       "        [-2.42678641e-04,  9.99945119e-01, -1.70861341e-05, ...,\n",
       "         -1.49847119e-05, -6.01530891e-05, -4.34695731e-05],\n",
       "        [-7.14703165e-05, -7.50187236e-05,  9.99941819e-01, ...,\n",
       "         -1.52833813e-05, -1.21462790e-04, -7.36542145e-05],\n",
       "        ...,\n",
       "        [-2.84972081e-04, -5.47160373e-05, -1.75448747e-05, ...,\n",
       "          9.99983832e-01, -6.24160466e-05, -4.34661569e-05],\n",
       "        [-2.67673170e-04, -5.78305930e-05, -4.19201036e-05, ...,\n",
       "         -1.54009945e-05,  9.99908403e-01, -2.34738525e-05],\n",
       "        [-1.73669419e-04, -4.10358079e-05, -2.36890702e-05, ...,\n",
       "         -1.13089311e-05, -6.84743502e-05,  9.99939182e-01]]),\n",
       " 0.36573820696339426)"
      ]
     },
     "execution_count": 12,
     "metadata": {},
     "output_type": "execute_result"
    }
   ],
   "source": [
    "baboon_101.fit(0)"
   ]
  },
  {
   "cell_type": "code",
   "execution_count": 13,
   "metadata": {},
   "outputs": [
    {
     "data": {
      "text/plain": [
       "(51, 61)"
      ]
     },
     "execution_count": 13,
     "metadata": {},
     "output_type": "execute_result"
    }
   ],
   "source": [
    "# calculate the objective function\n",
    "\n",
    "'''for the ith row in self.data (from row 3)\n",
    "1. calculate mean of previous i-2 rows = d_mean\n",
    "2. calculate time difference between ith row and i-1th row = d_time\n",
    "calculate the prediction for the ith row using the formula'''\n",
    "\n",
    "\n",
    "'''\n",
    "calculate difference between prediction and actual value using bray-curtis dissimilarity and return the sum/mean -TBD'''\n",
    "self = baboon_101\n",
    "lambda_ = 0\n",
    "method=\"counts\"\n",
    "alpha = baboon_101.alpha_\n",
    "beta = baboon_101.beta_\n",
    "\n",
    "\n",
    "D_t1 = self.transformed_data[1:-1].values\n",
    "D_mean = self.df_cumulative_mean[:-2].values\n",
    "cos = 0# np.cos((2*np.pi*self.delta_t[2:].values)/365)\n",
    "exp = np.exp(-lambda_*self.delta_t[2:].values)\n",
    "\n",
    "f = alpha@(exp*cos*D_t1.T) + beta@((1-exp*cos)*D_mean.T)\n",
    "\n",
    "f = to_composition(f.T, type = method) # transpose f to match the shape of D - each row is a sample\n",
    "\n",
    "# calculate bray-curtis dissimilarity\n",
    "bc =  np.array([braycurtis(self.data.values[i+2], f[i]) for i in range(len(f))])\n",
    "\n",
    "f.shape"
   ]
  },
  {
   "cell_type": "code",
   "execution_count": null,
   "metadata": {},
   "outputs": [],
   "source": []
  }
 ],
 "metadata": {
  "kernelspec": {
   "display_name": "Python 3 (ipykernel)",
   "language": "python",
   "name": "python3"
  },
  "language_info": {
   "codemirror_mode": {
    "name": "ipython",
    "version": 3
   },
   "file_extension": ".py",
   "mimetype": "text/x-python",
   "name": "python",
   "nbconvert_exporter": "python",
   "pygments_lexer": "ipython3",
   "version": "3.8.10"
  }
 },
 "nbformat": 4,
 "nbformat_minor": 4
}
