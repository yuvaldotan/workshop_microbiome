{
 "cells": [
  {
   "cell_type": "code",
   "execution_count": 60,
   "metadata": {},
   "outputs": [
    {
     "data": {
      "text/plain": [
       "<module 'social_model_class' from 'c:\\\\Users\\\\tomer\\\\Desktop\\\\BSc\\\\year3\\\\sem B\\\\workshop_microbiome\\\\Milestone2\\\\social_model_class.py'>"
      ]
     },
     "execution_count": 60,
     "metadata": {},
     "output_type": "execute_result"
    }
   ],
   "source": [
    "import sys\n",
    "import pandas as pd\n",
    "import numpy as np\n",
    "import math\n",
    "from scipy.special import softmax\n",
    "from scipy.optimize import minimize, LinearConstraint\n",
    "from scipy.spatial.distance import braycurtis\n",
    "import multiprocessing\n",
    "from concurrent.futures import ProcessPoolExecutor, as_completed\n",
    "from imports import *\n",
    "from importlib import reload\n",
    "# # adding Folder_2 to the system path\n",
    "# sys.path.insert(0, r'C:\\Users\\tomer\\Desktop\\BSc\\year3\\sem B\\workshop_microbiome\\code')\n",
    "# # sys.path.insert(0, r'C:\\Users\\yuvald\\Documents\\Uni\\סמסטר ב\\workshop_microbiome\\code')\n",
    "\n",
    "from imports import  *\n",
    "\n",
    "import social_model_class\n",
    "reload(social_model_class)\n"
   ]
  },
  {
   "cell_type": "code",
   "execution_count": 61,
   "metadata": {},
   "outputs": [],
   "source": [
    "data_path = r\"train_data.csv\"\n",
    "metadata_path = r\"train_metadata.csv\""
   ]
  },
  {
   "cell_type": "markdown",
   "metadata": {},
   "source": [
    "$$\\Delta_t  \\space windowing$$"
   ]
  },
  {
   "cell_type": "code",
   "execution_count": 62,
   "metadata": {},
   "outputs": [],
   "source": [
    "model = social_model_class.superModel(data_path, metadata_path)"
   ]
  },
  {
   "cell_type": "markdown",
   "metadata": {},
   "source": [
    "## cross validation (4 - fold)"
   ]
  },
  {
   "cell_type": "code",
   "execution_count": 73,
   "metadata": {},
   "outputs": [],
   "source": [
    "np.random.seed(0)\n",
    "baboons = model.baboons\n",
    "dict_list = list(model.baboons.items())\n",
    "np.random.shuffle(dict_list)\n",
    "groups = [dict(group) for group in np.array_split(dict_list,4)]\n",
    "\n",
    "data_df = pd.read_csv(data_path, index_col=0)\n",
    "metadata_df = pd.read_csv(metadata_path, index_col=0)\n",
    "\n",
    "for i in range(4):\n",
    "    train_metatdata = metadata_df[~metadata_df[\"baboon_id\"].isin(groups[i].keys())]\n",
    "    train_data = data_df.loc[train_metatdata.index]\n",
    "    known_metadata = metadata_df[metadata_df['baboon_id'].isin(groups[i].keys())]\n",
    "    indicies = []\n",
    "    for baboon in groups[i].values():\n",
    "        indicies.extend(baboon.metadata_I.index[:10])\n",
    "\n",
    "    known_data = data_df.loc[indicies]\n",
    "    true_data = data_df.loc[known_metadata[~np.isin(known_metadata.index, indicies)].index]\n",
    "\n",
    "\n",
    "    train_data.to_csv(fr\".\\cross_val_data\\train_data_{i}.csv\")\n",
    "    train_metatdata.to_csv(fr\".\\cross_val_data\\train_metadata_{i}.csv\")\n",
    "    known_data.to_csv(fr\".\\cross_val_data\\known_data_{i}.csv\")\n",
    "    known_metadata.to_csv(fr\".\\cross_val_data\\known_metadata_{i}.csv\")\n",
    "    true_data.to_csv(fr\".\\cross_val_data\\true_data_{i}.csv\")\n",
    "    "
   ]
  },
  {
   "cell_type": "code",
   "execution_count": 74,
   "metadata": {},
   "outputs": [
    {
     "name": "stdout",
     "output_type": "stream",
     "text": [
      "baboon_id:  Baboon_113\n",
      "baboon_id:  Baboon_136\n",
      "baboon_id:  Baboon_201\n",
      "baboon_id:  Baboon_238\n",
      "baboon_id:  Baboon_285\n",
      "baboon_id:  Baboon_343\n",
      "baboon_id:  Baboon_368\n",
      "baboon_id:  Baboon_374\n",
      "baboon_id:  Baboon_378\n",
      "baboon_id:  Baboon_379\n",
      "baboon_id:  Baboon_388\n",
      "baboon_id:  Baboon_4\n",
      "baboon_id:  Baboon_450\n",
      "baboon_id:  Baboon_491\n",
      "baboon_id:  Baboon_494\n",
      "baboon_id:  Baboon_499\n",
      "baboon_id:  Baboon_51\n",
      "baboon_id:  Baboon_518\n",
      "baboon_id:  Baboon_544\n",
      "baboon_id:  Baboon_64\n"
     ]
    }
   ],
   "source": [
    "i= 0\n",
    "model = social_model_class.superModel(fr\".\\cross_val_data\\train_data_{i}.csv\", fr\".\\cross_val_data\\train_metadata_{i}.csv\")\n",
    "model.alpha_ = np.array([0]*61)\n",
    "model.add_new_data(fr\".\\cross_val_data\\known_data_{i}.csv\", fr\".\\cross_val_data\\known_metadata_{i}.csv\")\n",
    "\n"
   ]
  },
  {
   "cell_type": "code",
   "execution_count": 75,
   "metadata": {},
   "outputs": [
    {
     "data": {
      "text/plain": [
       "dict_keys(['Baboon_518', 'Baboon_379', 'Baboon_388', 'Baboon_64', 'Baboon_491', 'Baboon_494', 'Baboon_285', 'Baboon_368', 'Baboon_51', 'Baboon_374', 'Baboon_450', 'Baboon_238', 'Baboon_113', 'Baboon_499', 'Baboon_544', 'Baboon_4', 'Baboon_136', 'Baboon_343', 'Baboon_201', 'Baboon_378'])"
      ]
     },
     "execution_count": 75,
     "metadata": {},
     "output_type": "execute_result"
    }
   ],
   "source": [
    "groups[i].keys()"
   ]
  },
  {
   "cell_type": "code",
   "execution_count": 77,
   "metadata": {},
   "outputs": [
    {
     "name": "stdout",
     "output_type": "stream",
     "text": [
      "predicting:  Baboon_518\n",
      "10 56\n",
      "predicting:  Baboon_379\n",
      "10 78\n",
      "predicting:  Baboon_388\n",
      "10 59\n",
      "predicting:  Baboon_64\n",
      "10 96\n",
      "predicting:  Baboon_491\n",
      "10 73\n",
      "predicting:  Baboon_494\n",
      "10 130\n",
      "predicting:  Baboon_285\n",
      "10 87\n",
      "predicting:  Baboon_368\n",
      "10 54\n",
      "predicting:  Baboon_51\n",
      "10 113\n",
      "predicting:  Baboon_374\n",
      "10 79\n",
      "predicting:  Baboon_450\n",
      "10 61\n",
      "predicting:  Baboon_238\n",
      "10 59\n",
      "predicting:  Baboon_113\n",
      "10 131\n",
      "predicting:  Baboon_499\n",
      "10 83\n",
      "predicting:  Baboon_544\n",
      "10 57\n",
      "predicting:  Baboon_4\n",
      "10 122\n",
      "predicting:  Baboon_136\n",
      "10 59\n",
      "predicting:  Baboon_343\n",
      "10 60\n",
      "predicting:  Baboon_201\n",
      "10 81\n",
      "predicting:  Baboon_378\n",
      "10 64\n"
     ]
    },
    {
     "name": "stderr",
     "output_type": "stream",
     "text": [
      "c:\\Users\\tomer\\Desktop\\BSc\\year3\\sem B\\workshop_microbiome\\Milestone2\\social_model_class.py:206: FutureWarning: The behavior of DataFrame concatenation with empty or all-NA entries is deprecated. In a future version, this will no longer exclude empty or all-NA columns when determining the result dtypes. To retain the old behavior, exclude the relevant entries before the concat operation.\n",
      "  return predictions\n"
     ]
    }
   ],
   "source": [
    "predictions_noniterative = model.predict(groups[i].keys(), iterative=False)"
   ]
  },
  {
   "cell_type": "code",
   "execution_count": 78,
   "metadata": {},
   "outputs": [
    {
     "name": "stdout",
     "output_type": "stream",
     "text": [
      "predicting 0\n",
      "baboon_id:  Baboon_113\n",
      "baboon_id:  Baboon_136\n",
      "baboon_id:  Baboon_201\n",
      "baboon_id:  Baboon_238\n",
      "baboon_id:  Baboon_285\n",
      "baboon_id:  Baboon_343\n",
      "baboon_id:  Baboon_368\n",
      "baboon_id:  Baboon_374\n",
      "baboon_id:  Baboon_378\n",
      "baboon_id:  Baboon_379\n",
      "baboon_id:  Baboon_388\n",
      "baboon_id:  Baboon_4\n",
      "baboon_id:  Baboon_450\n",
      "baboon_id:  Baboon_491\n",
      "baboon_id:  Baboon_494\n",
      "baboon_id:  Baboon_499\n",
      "baboon_id:  Baboon_51\n",
      "baboon_id:  Baboon_518\n",
      "baboon_id:  Baboon_544\n",
      "baboon_id:  Baboon_64\n",
      "predicting:  Baboon_518\n",
      "10 56\n",
      "predicting:  Baboon_379\n",
      "10 78\n",
      "predicting:  Baboon_388\n",
      "10 59\n",
      "predicting:  Baboon_64\n",
      "10 96\n",
      "predicting:  Baboon_491\n",
      "10 73\n",
      "predicting:  Baboon_494\n",
      "10 130\n",
      "predicting:  Baboon_285\n",
      "10 87\n",
      "predicting:  Baboon_368\n",
      "10 54\n",
      "predicting:  Baboon_51\n",
      "10 113\n",
      "predicting:  Baboon_374\n",
      "10 79\n",
      "predicting:  Baboon_450\n",
      "10 61\n",
      "predicting:  Baboon_238\n",
      "10 59\n",
      "predicting:  Baboon_113\n",
      "10 131\n",
      "predicting:  Baboon_499\n",
      "10 83\n",
      "predicting:  Baboon_544\n",
      "10 57\n",
      "predicting:  Baboon_4\n",
      "10 122\n",
      "predicting:  Baboon_136\n",
      "10 59\n",
      "predicting:  Baboon_343\n",
      "10 60\n",
      "predicting:  Baboon_201\n",
      "10 81\n",
      "predicting:  Baboon_378\n",
      "10 64\n"
     ]
    },
    {
     "name": "stderr",
     "output_type": "stream",
     "text": [
      "c:\\Users\\tomer\\Desktop\\BSc\\year3\\sem B\\workshop_microbiome\\Milestone2\\social_model_class.py:206: FutureWarning: The behavior of DataFrame concatenation with empty or all-NA entries is deprecated. In a future version, this will no longer exclude empty or all-NA columns when determining the result dtypes. To retain the old behavior, exclude the relevant entries before the concat operation.\n",
      "  return predictions\n"
     ]
    },
    {
     "name": "stdout",
     "output_type": "stream",
     "text": [
      "predicting:  Baboon_518\n",
      "10 56\n",
      "predicting:  Baboon_379\n",
      "10 78\n",
      "predicting:  Baboon_388\n",
      "10 59\n",
      "predicting:  Baboon_64\n",
      "10 96\n",
      "predicting:  Baboon_491\n",
      "10 73\n",
      "predicting:  Baboon_494\n",
      "10 130\n",
      "predicting:  Baboon_285\n",
      "10 87\n",
      "predicting:  Baboon_368\n",
      "10 54\n",
      "predicting:  Baboon_51\n",
      "10 113\n",
      "predicting:  Baboon_374\n",
      "10 79\n",
      "predicting:  Baboon_450\n",
      "10 61\n",
      "predicting:  Baboon_238\n",
      "10 59\n",
      "predicting:  Baboon_113\n",
      "10 131\n",
      "predicting:  Baboon_499\n",
      "10 83\n",
      "predicting:  Baboon_544\n",
      "10 57\n",
      "predicting:  Baboon_4\n",
      "10 122\n",
      "predicting:  Baboon_136\n",
      "10 59\n",
      "predicting:  Baboon_343\n",
      "10 60\n",
      "predicting:  Baboon_201\n",
      "10 81\n",
      "predicting:  Baboon_378\n",
      "10 64\n"
     ]
    },
    {
     "name": "stderr",
     "output_type": "stream",
     "text": [
      "c:\\Users\\tomer\\Desktop\\BSc\\year3\\sem B\\workshop_microbiome\\Milestone2\\social_model_class.py:206: FutureWarning: The behavior of DataFrame concatenation with empty or all-NA entries is deprecated. In a future version, this will no longer exclude empty or all-NA columns when determining the result dtypes. To retain the old behavior, exclude the relevant entries before the concat operation.\n",
      "  return predictions\n"
     ]
    },
    {
     "name": "stdout",
     "output_type": "stream",
     "text": [
      "predicting 1\n",
      "baboon_id:  Baboon_109\n",
      "baboon_id:  Baboon_153\n",
      "baboon_id:  Baboon_199\n",
      "baboon_id:  Baboon_200\n",
      "baboon_id:  Baboon_249\n",
      "baboon_id:  Baboon_253\n",
      "baboon_id:  Baboon_298\n",
      "baboon_id:  Baboon_349\n",
      "baboon_id:  Baboon_382\n",
      "baboon_id:  Baboon_389\n",
      "baboon_id:  Baboon_395\n",
      "baboon_id:  Baboon_439\n",
      "baboon_id:  Baboon_464\n",
      "baboon_id:  Baboon_479\n",
      "baboon_id:  Baboon_502\n",
      "baboon_id:  Baboon_549\n",
      "baboon_id:  Baboon_595\n",
      "baboon_id:  Baboon_599\n",
      "baboon_id:  Baboon_61\n",
      "predicting:  Baboon_479\n",
      "10 57\n",
      "predicting:  Baboon_439\n",
      "10 51\n",
      "predicting:  Baboon_464\n",
      "10 108\n",
      "predicting:  Baboon_534\n",
      "9 72\n",
      "predicting:  Baboon_595\n",
      "10 59\n",
      "predicting:  Baboon_298\n",
      "10 53\n",
      "predicting:  Baboon_109\n",
      "10 63\n",
      "predicting:  Baboon_199\n",
      "10 56\n",
      "predicting:  Baboon_200\n",
      "10 86\n",
      "predicting:  Baboon_599\n",
      "10 42\n",
      "predicting:  Baboon_502\n",
      "10 56\n",
      "predicting:  Baboon_153\n",
      "10 98\n",
      "predicting:  Baboon_395\n",
      "10 93\n",
      "predicting:  Baboon_549\n",
      "10 67\n",
      "predicting:  Baboon_382\n",
      "10 123\n",
      "predicting:  Baboon_253\n",
      "10 53\n",
      "predicting:  Baboon_61\n",
      "10 112\n",
      "predicting:  Baboon_349\n",
      "10 86\n",
      "predicting:  Baboon_249\n",
      "10 55\n",
      "predicting:  Baboon_389\n",
      "10 80\n"
     ]
    },
    {
     "name": "stderr",
     "output_type": "stream",
     "text": [
      "c:\\Users\\tomer\\Desktop\\BSc\\year3\\sem B\\workshop_microbiome\\Milestone2\\social_model_class.py:206: FutureWarning: The behavior of DataFrame concatenation with empty or all-NA entries is deprecated. In a future version, this will no longer exclude empty or all-NA columns when determining the result dtypes. To retain the old behavior, exclude the relevant entries before the concat operation.\n",
      "  return predictions\n"
     ]
    },
    {
     "name": "stdout",
     "output_type": "stream",
     "text": [
      "predicting:  Baboon_479\n",
      "10 57\n",
      "predicting:  Baboon_439\n",
      "10 51\n",
      "predicting:  Baboon_464\n",
      "10 108\n",
      "predicting:  Baboon_534\n",
      "9 72\n",
      "predicting:  Baboon_595\n",
      "10 59\n",
      "predicting:  Baboon_298\n",
      "10 53\n",
      "predicting:  Baboon_109\n",
      "10 63\n",
      "predicting:  Baboon_199\n",
      "10 56\n",
      "predicting:  Baboon_200\n",
      "10 86\n",
      "predicting:  Baboon_599\n",
      "10 42\n",
      "predicting:  Baboon_502\n",
      "10 56\n",
      "predicting:  Baboon_153\n",
      "10 98\n",
      "predicting:  Baboon_395\n",
      "10 93\n",
      "predicting:  Baboon_549\n",
      "10 67\n",
      "predicting:  Baboon_382\n",
      "10 123\n",
      "predicting:  Baboon_253\n",
      "10 53\n",
      "predicting:  Baboon_61\n",
      "10 112\n",
      "predicting:  Baboon_349\n",
      "10 86\n",
      "predicting:  Baboon_249\n",
      "10 55\n",
      "predicting:  Baboon_389\n",
      "10 80\n"
     ]
    },
    {
     "name": "stderr",
     "output_type": "stream",
     "text": [
      "c:\\Users\\tomer\\Desktop\\BSc\\year3\\sem B\\workshop_microbiome\\Milestone2\\social_model_class.py:206: FutureWarning: The behavior of DataFrame concatenation with empty or all-NA entries is deprecated. In a future version, this will no longer exclude empty or all-NA columns when determining the result dtypes. To retain the old behavior, exclude the relevant entries before the concat operation.\n",
      "  return predictions\n"
     ]
    },
    {
     "name": "stdout",
     "output_type": "stream",
     "text": [
      "predicting 2\n",
      "baboon_id:  Baboon_101\n",
      "baboon_id:  Baboon_107\n",
      "baboon_id:  Baboon_157\n",
      "baboon_id:  Baboon_180\n",
      "baboon_id:  Baboon_279\n",
      "baboon_id:  Baboon_289\n",
      "baboon_id:  Baboon_296\n",
      "baboon_id:  Baboon_309\n",
      "baboon_id:  Baboon_313\n",
      "baboon_id:  Baboon_354\n",
      "baboon_id:  Baboon_386\n",
      "baboon_id:  Baboon_390\n",
      "baboon_id:  Baboon_403\n",
      "baboon_id:  Baboon_483\n",
      "baboon_id:  Baboon_507\n",
      "baboon_id:  Baboon_512\n",
      "baboon_id:  Baboon_526\n",
      "baboon_id:  Baboon_558\n",
      "baboon_id:  Baboon_74\n",
      "baboon_id:  Baboon_96\n",
      "predicting:  Baboon_483\n",
      "10 59\n",
      "predicting:  Baboon_157\n",
      "10 57\n",
      "predicting:  Baboon_107\n",
      "10 112\n",
      "predicting:  Baboon_390\n",
      "10 102\n",
      "predicting:  Baboon_507\n",
      "10 68\n",
      "predicting:  Baboon_279\n",
      "10 94\n",
      "predicting:  Baboon_558\n",
      "10 92\n",
      "predicting:  Baboon_313\n",
      "10 91\n",
      "predicting:  Baboon_386\n",
      "10 68\n",
      "predicting:  Baboon_512\n",
      "10 89\n",
      "predicting:  Baboon_354\n",
      "10 73\n",
      "predicting:  Baboon_403\n",
      "10 56\n",
      "predicting:  Baboon_309\n",
      "10 65\n",
      "predicting:  Baboon_101\n",
      "10 53\n",
      "predicting:  Baboon_74\n",
      "10 68\n",
      "predicting:  Baboon_289\n",
      "10 68\n",
      "predicting:  Baboon_180\n",
      "10 53\n",
      "predicting:  Baboon_96\n",
      "10 67\n",
      "predicting:  Baboon_296\n",
      "10 69\n",
      "predicting:  Baboon_526\n",
      "10 62\n"
     ]
    },
    {
     "name": "stderr",
     "output_type": "stream",
     "text": [
      "c:\\Users\\tomer\\Desktop\\BSc\\year3\\sem B\\workshop_microbiome\\Milestone2\\social_model_class.py:206: FutureWarning: The behavior of DataFrame concatenation with empty or all-NA entries is deprecated. In a future version, this will no longer exclude empty or all-NA columns when determining the result dtypes. To retain the old behavior, exclude the relevant entries before the concat operation.\n",
      "  return predictions\n"
     ]
    },
    {
     "name": "stdout",
     "output_type": "stream",
     "text": [
      "predicting:  Baboon_483\n",
      "10 59\n",
      "predicting:  Baboon_157\n",
      "10 57\n",
      "predicting:  Baboon_107\n",
      "10 112\n",
      "predicting:  Baboon_390\n",
      "10 102\n",
      "predicting:  Baboon_507\n",
      "10 68\n",
      "predicting:  Baboon_279\n",
      "10 94\n",
      "predicting:  Baboon_558\n",
      "10 92\n",
      "predicting:  Baboon_313\n",
      "10 91\n",
      "predicting:  Baboon_386\n",
      "10 68\n",
      "predicting:  Baboon_512\n",
      "10 89\n",
      "predicting:  Baboon_354\n",
      "10 73\n",
      "predicting:  Baboon_403\n",
      "10 56\n",
      "predicting:  Baboon_309\n",
      "10 65\n",
      "predicting:  Baboon_101\n",
      "10 53\n",
      "predicting:  Baboon_74\n",
      "10 68\n",
      "predicting:  Baboon_289\n",
      "10 68\n",
      "predicting:  Baboon_180\n",
      "10 53\n",
      "predicting:  Baboon_96\n",
      "10 67\n",
      "predicting:  Baboon_296\n",
      "10 69\n",
      "predicting:  Baboon_526\n",
      "10 62\n"
     ]
    },
    {
     "name": "stderr",
     "output_type": "stream",
     "text": [
      "c:\\Users\\tomer\\Desktop\\BSc\\year3\\sem B\\workshop_microbiome\\Milestone2\\social_model_class.py:206: FutureWarning: The behavior of DataFrame concatenation with empty or all-NA entries is deprecated. In a future version, this will no longer exclude empty or all-NA columns when determining the result dtypes. To retain the old behavior, exclude the relevant entries before the concat operation.\n",
      "  return predictions\n"
     ]
    },
    {
     "name": "stdout",
     "output_type": "stream",
     "text": [
      "predicting 3\n",
      "baboon_id:  Baboon_206\n",
      "baboon_id:  Baboon_209\n",
      "baboon_id:  Baboon_245\n",
      "baboon_id:  Baboon_258\n",
      "baboon_id:  Baboon_259\n",
      "baboon_id:  Baboon_280\n",
      "baboon_id:  Baboon_324\n",
      "baboon_id:  Baboon_333\n",
      "baboon_id:  Baboon_342\n",
      "baboon_id:  Baboon_373\n",
      "baboon_id:  Baboon_410\n",
      "baboon_id:  Baboon_42\n",
      "baboon_id:  Baboon_441\n",
      "baboon_id:  Baboon_458\n",
      "baboon_id:  Baboon_488\n",
      "baboon_id:  Baboon_492\n",
      "baboon_id:  Baboon_503\n",
      "baboon_id:  Baboon_506\n",
      "baboon_id:  Baboon_570\n",
      "baboon_id:  Baboon_78\n",
      "predicting:  Baboon_333\n",
      "10 101\n",
      "predicting:  Baboon_503\n",
      "10 113\n",
      "predicting:  Baboon_206\n",
      "10 45\n",
      "predicting:  Baboon_259\n",
      "10 114\n",
      "predicting:  Baboon_373\n",
      "10 72\n",
      "predicting:  Baboon_42\n",
      "10 55\n",
      "predicting:  Baboon_492\n",
      "10 79\n",
      "predicting:  Baboon_441\n",
      "10 89\n",
      "predicting:  Baboon_280\n",
      "10 55\n",
      "predicting:  Baboon_78\n",
      "10 113\n",
      "predicting:  Baboon_258\n",
      "10 73\n",
      "predicting:  Baboon_458\n",
      "10 88\n",
      "predicting:  Baboon_410\n",
      "10 66\n",
      "predicting:  Baboon_342\n",
      "10 74\n",
      "predicting:  Baboon_209\n",
      "10 70\n",
      "predicting:  Baboon_570\n",
      "10 54\n",
      "predicting:  Baboon_324\n",
      "10 51\n",
      "predicting:  Baboon_245\n",
      "10 98\n",
      "predicting:  Baboon_506\n",
      "10 87\n",
      "predicting:  Baboon_488\n",
      "10 60\n"
     ]
    },
    {
     "name": "stderr",
     "output_type": "stream",
     "text": [
      "c:\\Users\\tomer\\Desktop\\BSc\\year3\\sem B\\workshop_microbiome\\Milestone2\\social_model_class.py:206: FutureWarning: The behavior of DataFrame concatenation with empty or all-NA entries is deprecated. In a future version, this will no longer exclude empty or all-NA columns when determining the result dtypes. To retain the old behavior, exclude the relevant entries before the concat operation.\n",
      "  return predictions\n"
     ]
    },
    {
     "name": "stdout",
     "output_type": "stream",
     "text": [
      "predicting:  Baboon_333\n",
      "10 101\n",
      "predicting:  Baboon_503\n",
      "10 113\n",
      "predicting:  Baboon_206\n",
      "10 45\n",
      "predicting:  Baboon_259\n",
      "10 114\n",
      "predicting:  Baboon_373\n",
      "10 72\n",
      "predicting:  Baboon_42\n",
      "10 55\n",
      "predicting:  Baboon_492\n",
      "10 79\n",
      "predicting:  Baboon_441\n",
      "10 89\n",
      "predicting:  Baboon_280\n",
      "10 55\n",
      "predicting:  Baboon_78\n",
      "10 113\n",
      "predicting:  Baboon_258\n",
      "10 73\n",
      "predicting:  Baboon_458\n",
      "10 88\n",
      "predicting:  Baboon_410\n",
      "10 66\n",
      "predicting:  Baboon_342\n",
      "10 74\n",
      "predicting:  Baboon_209\n",
      "10 70\n",
      "predicting:  Baboon_570\n",
      "10 54\n",
      "predicting:  Baboon_324\n",
      "10 51\n",
      "predicting:  Baboon_245\n",
      "10 98\n",
      "predicting:  Baboon_506\n",
      "10 87\n",
      "predicting:  Baboon_488\n",
      "10 60\n"
     ]
    },
    {
     "name": "stderr",
     "output_type": "stream",
     "text": [
      "c:\\Users\\tomer\\Desktop\\BSc\\year3\\sem B\\workshop_microbiome\\Milestone2\\social_model_class.py:206: FutureWarning: The behavior of DataFrame concatenation with empty or all-NA entries is deprecated. In a future version, this will no longer exclude empty or all-NA columns when determining the result dtypes. To retain the old behavior, exclude the relevant entries before the concat operation.\n",
      "  return predictions\n"
     ]
    }
   ],
   "source": [
    "for i in range(4):\n",
    "    model = social_model_class.superModel(fr\".\\cross_val_data\\train_data_{i}.csv\", fr\".\\cross_val_data\\train_metadata_{i}.csv\")\n",
    "    model.alpha_ = np.array([0]*61)\n",
    "    \n",
    "    cpus = max(1, min(multiprocessing.cpu_count() - 2, len(model.baboons)))\n",
    "    with ProcessPoolExecutor(cpus) as executor:\n",
    "        futures = [executor.submit(baboon.fit, model.alpha_) for baboon in model.baboons.values()]\n",
    "        for future in as_completed(futures):\n",
    "            pass\n",
    "    \n",
    "    print(f\"predicting {i}\")\n",
    "    \n",
    "    model.add_new_data(fr\".\\cross_val_data\\known_data_{i}.csv\", fr\".\\cross_val_data\\known_metadata_{i}.csv\")\n",
    "    predictions_noniterative = model.predict(groups[i].keys(), iterative=False)\n",
    "    predictions_iterative = model.predict(groups[i].keys(), iterative=True)\n",
    "    predictions_noniterative.to_csv(fr\".\\cross_val_data\\predictions_noniterative_{i}.csv\")\n",
    "    predictions_iterative.to_csv(fr\".\\cross_val_data\\predictions_iterative_{i}.csv\")"
   ]
  },
  {
   "cell_type": "code",
   "execution_count": null,
   "metadata": {},
   "outputs": [],
   "source": []
  },
  {
   "cell_type": "code",
   "execution_count": 10,
   "metadata": {},
   "outputs": [
    {
     "data": {
      "text/plain": [
       "dict_keys(['Baboon_199', 'Baboon_153', 'Baboon_245', 'Baboon_200', 'Baboon_101', 'Baboon_395', 'Baboon_349', 'Baboon_285', 'Baboon_324', 'Baboon_289', 'Baboon_502', 'Baboon_296', 'Baboon_410', 'Baboon_390', 'Baboon_518', 'Baboon_206', 'Baboon_506', 'Baboon_74', 'Baboon_388', 'Baboon_298'])"
      ]
     },
     "execution_count": 10,
     "metadata": {},
     "output_type": "execute_result"
    }
   ],
   "source": [
    "groups[i].keys()"
   ]
  },
  {
   "cell_type": "code",
   "execution_count": null,
   "metadata": {},
   "outputs": [],
   "source": [
    "model.fit()"
   ]
  },
  {
   "cell_type": "code",
   "execution_count": null,
   "metadata": {},
   "outputs": [],
   "source": [
    "model.baboons[0].fit(np.array([1/3]*61))"
   ]
  },
  {
   "cell_type": "code",
   "execution_count": 5,
   "metadata": {},
   "outputs": [],
   "source": [
    "metadata_df = pd.read_csv(metadata_path)\n",
    "data_df = pd.read_csv(data_path)\n",
    "\n",
    "metadata_df[\"collection_date\"] = pd.to_datetime(metadata_df[\"collection_date\"])"
   ]
  },
  {
   "cell_type": "code",
   "execution_count": 6,
   "metadata": {},
   "outputs": [],
   "source": [
    "metadata_df.set_index('sample', inplace=True)\n",
    "data_df.set_index('sample', inplace=True)"
   ]
  },
  {
   "cell_type": "code",
   "execution_count": null,
   "metadata": {},
   "outputs": [],
   "source": [
    "model = social_model_class.superModel(data_path,   metadata_path)"
   ]
  },
  {
   "cell_type": "code",
   "execution_count": 10,
   "metadata": {},
   "outputs": [],
   "source": [
    "metadata_df[\"collection_date_datetime\"] = pd.to_datetime(metadata_df[\"collection_date\"])"
   ]
  },
  {
   "cell_type": "code",
   "execution_count": 16,
   "metadata": {},
   "outputs": [],
   "source": [
    "metadata_df.drop_duplicates(subset=[\"baboon_id\", \"collection_date\"], inplace=True)"
   ]
  },
  {
   "cell_type": "code",
   "execution_count": 31,
   "metadata": {},
   "outputs": [],
   "source": [
    "time_samples_df = metadata_df[[\"social_group\", \"collection_date_datetime\"]].copy()"
   ]
  },
  {
   "cell_type": "code",
   "execution_count": 32,
   "metadata": {},
   "outputs": [],
   "source": [
    "time_samples_df[\"delta_t_cnt\"] = 0"
   ]
  },
  {
   "cell_type": "code",
   "execution_count": null,
   "metadata": {},
   "outputs": [],
   "source": [
    "for group in time_samples_df[\"social_group\"].unique():\n",
    "    for t in time_samples_df[\"collection_date_datetime\"][time_samples_df[\"social_group\"] == group]:\n",
    "        count = len(time_samples_df[(time_samples_df[\"social_group\"]==group) & (abs(time_samples_df[\"collection_date_datetime\"]-t).dt.days<=10)])\n",
    "        time_samples_df[\"delta_t_cnt\"][(time_samples_df[\"social_group\"]==group) & (time_samples_df[\"collection_date_datetime\"]==t)] = count\n",
    "time_samples_df.drop_duplicates(inplace=True)"
   ]
  },
  {
   "cell_type": "code",
   "execution_count": null,
   "metadata": {},
   "outputs": [],
   "source": [
    "for group in time_samples_df[\"social_group\"].unique():\n",
    "    plt.plot(sorted(time_samples_df[\"collection_date_datetime\"][time_samples_df[\"social_group\"]==group]), time_samples_df[\"delta_t_cnt\"][time_samples_df[\"social_group\"]==group], label=group)\n"
   ]
  },
  {
   "cell_type": "code",
   "execution_count": null,
   "metadata": {},
   "outputs": [],
   "source": [
    "for t in time_samples_df.index:\n",
    "    delta_t_datetimes = [i for i in range(t-7,t+7)]\n",
    "    time_samples_df[\"\"]"
   ]
  },
  {
   "cell_type": "code",
   "execution_count": null,
   "metadata": {},
   "outputs": [],
   "source": [
    "time_samples_df.loc[pd.to_datetime('2000-05-19')]"
   ]
  },
  {
   "cell_type": "code",
   "execution_count": null,
   "metadata": {},
   "outputs": [],
   "source": [
    "resampled_df"
   ]
  }
 ],
 "metadata": {
  "kernelspec": {
   "display_name": "Python 3",
   "language": "python",
   "name": "python3"
  },
  "language_info": {
   "codemirror_mode": {
    "name": "ipython",
    "version": 3
   },
   "file_extension": ".py",
   "mimetype": "text/x-python",
   "name": "python",
   "nbconvert_exporter": "python",
   "pygments_lexer": "ipython3",
   "version": "3.11.8"
  }
 },
 "nbformat": 4,
 "nbformat_minor": 2
}
