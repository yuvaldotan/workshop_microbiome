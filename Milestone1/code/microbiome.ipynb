{
 "cells": [
  {
   "cell_type": "code",
   "execution_count": null,
   "id": "fcec7923",
   "metadata": {},
   "outputs": [],
   "source": [
    "import pandas as pd\n",
    "from matplotlib import pyplot as plt\n",
    "import numpy as np\n",
    "import seaborn as sns\n",
    "from tqdm import tqdm\n",
    "import plotly_express as px"
   ]
  },
  {
   "cell_type": "code",
   "execution_count": null,
   "id": "da8bd88a",
   "metadata": {},
   "outputs": [],
   "source": [
    "metadata_df = pd.read_csv(\"train_metadata.csv\", index_col=\"sample\")\n",
    "data_df = pd.read_csv(\"train_data.csv\",  index_col=\"sample\")"
   ]
  },
  {
   "cell_type": "code",
   "execution_count": null,
   "id": "b6f8a4df",
   "metadata": {},
   "outputs": [],
   "source": [
    "metadata_df.columns"
   ]
  },
  {
   "cell_type": "markdown",
   "id": "d2f80dfc",
   "metadata": {},
   "source": [
    "full correlation between moth and season - no need to take both\n",
    "6-10 - wet else dry.\n",
    "\n"
   ]
  },
  {
   "cell_type": "code",
   "execution_count": null,
   "id": "a5b05408",
   "metadata": {},
   "outputs": [],
   "source": [
    "metadata_df[\"age\"].hist()\n",
    "\n",
    "plt.show()\n",
    "metadata_df[\"sex\"].hist()\n",
    "\n",
    "plt.show()\n"
   ]
  },
  {
   "cell_type": "code",
   "execution_count": null,
   "id": "3f1547ac",
   "metadata": {},
   "outputs": [],
   "source": [
    "metadata_df_M = metadata_df[metadata_df[\"sex\"]==\"M\"]\n",
    "metadata_df_F = metadata_df[metadata_df[\"sex\"]==\"F\"]"
   ]
  },
  {
   "cell_type": "code",
   "execution_count": null,
   "id": "6d5ec1c3",
   "metadata": {},
   "outputs": [],
   "source": [
    "metadata_df_M[\"age\"].hist(bins = 30, alpha=0.5)\n",
    "\n",
    "metadata_df_F[\"age\"].hist(bins=30, alpha=0.5)\n",
    "\n",
    "plt.show()"
   ]
  },
  {
   "cell_type": "code",
   "execution_count": null,
   "id": "32f24204",
   "metadata": {},
   "outputs": [],
   "source": [
    "for baboon in metadata_df_M[\"baboon_id\"].unique():\n",
    "    age = metadata_df_M[\"age\"][metadata_df_M[\"baboon_id\"] == baboon]\n",
    "    social_group = metadata_df_M[\"social_group\"][metadata_df_M[\"baboon_id\"] == baboon]\n",
    "    plt.plot(age, social_group, label=baboon)\n",
    "    \n",
    "plt.grid()\n",
    "plt.legend()\n",
    "plt.show()"
   ]
  },
  {
   "cell_type": "code",
   "execution_count": null,
   "id": "8cb0f1ca",
   "metadata": {},
   "outputs": [],
   "source": [
    "# make sure the data is sorted by sample date\n",
    "metadata_df_M.sort_values(by=[\"baboon_id\",\"collection_date\"], inplace=True)\n"
   ]
  },
  {
   "cell_type": "code",
   "execution_count": null,
   "id": "e39313c3",
   "metadata": {},
   "outputs": [],
   "source": [
    "# for each baboon - summig  up the number of social group change over the years.\n",
    "number_of_group_change_M = []\n",
    "for baboon in metadata_df_M[\"baboon_id\"].unique():\n",
    "    baboon_df = pd.DataFrame({\"social_group\":metadata_df_M[\"social_group\"][metadata_df_M[\"baboon_id\"]==baboon]})\n",
    "    baboon_df[\"next_social_group\"] = baboon_df[\"social_group\"].shift(1)\n",
    "    group_change = (baboon_df[\"next_social_group\"] != baboon_df[\"social_group\"]).astype('int')\n",
    "    number_of_group_change_M.append(np.sum(group_change)-1)\n",
    "    \n",
    "number_of_group_change_F = []\n",
    "for baboon in metadata_df_F[\"baboon_id\"].unique():\n",
    "    baboon_df = pd.DataFrame({\"social_group\":metadata_df_F[\"social_group\"][metadata_df_F[\"baboon_id\"]==baboon]})\n",
    "    baboon_df[\"next_social_group\"] = baboon_df[\"social_group\"].shift(1)\n",
    "    group_change = (baboon_df[\"next_social_group\"] != baboon_df[\"social_group\"]).astype('int')\n",
    "    number_of_group_change_F.append(np.sum(group_change)-1)\n",
    "\n"
   ]
  },
  {
   "cell_type": "code",
   "execution_count": null,
   "id": "03f73f38",
   "metadata": {},
   "outputs": [],
   "source": [
    "plt.hist([number_of_group_change_F,number_of_group_change_M], label=[\"F\",\"M\"])\n",
    "plt.legend()\n",
    "plt.title(\"How many time baboon changed their social group\")\n",
    "plt.show()"
   ]
  },
  {
   "cell_type": "code",
   "execution_count": null,
   "id": "b76a2e02",
   "metadata": {},
   "outputs": [],
   "source": [
    "np.mean(metadata_df.groupby(\"baboon_id\")[\"collection_date\"].count())"
   ]
  },
  {
   "cell_type": "markdown",
   "id": "df74442c",
   "metadata": {},
   "source": [
    "1. clustering baboons by averege microbiome profile.\n",
    "2. changes in samples throughout time for each baboon."
   ]
  },
  {
   "cell_type": "code",
   "execution_count": null,
   "id": "db096a09",
   "metadata": {},
   "outputs": [],
   "source": [
    "# add baboon_id column\n",
    "data_df[\"baboon_id\"] = metadata_df[\"baboon_id\"]\n",
    "\n",
    "data_df_avg = data_df.groupby(\"baboon_id\").mean()"
   ]
  },
  {
   "cell_type": "code",
   "execution_count": null,
   "id": "5bf58b67",
   "metadata": {},
   "outputs": [],
   "source": [
    "import os\n",
    "os.environ[\"OMP_NUM_THREADS\"] = '1'\n",
    "from sklearn.cluster import KMeans\n",
    "\n",
    "\n",
    "distortions = []\n",
    "for k in tqdm(range(2, 10)):\n",
    "    val = 0\n",
    "    for _ in range(10):\n",
    "        kmeans = KMeans(n_clusters=k, n_init=10)\n",
    "        kmeans.fit(data_df_avg.values)\n",
    "        val += kmeans.inertia_\n",
    "    \n",
    "    distortions.append(val/10)\n",
    "plt.plot(range(2,10),distortions)\n",
    "\n"
   ]
  },
  {
   "cell_type": "code",
   "execution_count": null,
   "id": "61b54bd3",
   "metadata": {},
   "outputs": [],
   "source": [
    "kmean = KMeans(n_clusters=5, n_init=10)\n",
    "labels = kmean.fit(data_df_avg.values).labels_"
   ]
  },
  {
   "cell_type": "code",
   "execution_count": null,
   "id": "622f7a05",
   "metadata": {},
   "outputs": [],
   "source": [
    "import os\n",
    "os.environ[\"OMP_NUM_THREADS\"] = '1'\n",
    "from sklearn.cluster import KMeans\n",
    "\n",
    "\n",
    "distortions = []\n",
    "for k in tqdm(range(2, 10)):\n",
    "    val = 0\n",
    "    for _ in range(10):\n",
    "        kmeans = KMeans(n_clusters=k, n_init=10)\n",
    "        kmeans.fit(data_df.drop(columns=[\"baboon_id\",\"season\",\"collection_date\"]).values)\n",
    "        val += kmeans.inertia_\n",
    "    \n",
    "    distortions.append(val/10)\n",
    "plt.plot(range(2,10),distortions)\n"
   ]
  },
  {
   "cell_type": "code",
   "execution_count": null,
   "id": "0d2b4da3",
   "metadata": {},
   "outputs": [],
   "source": [
    "kmean = KMeans(n_clusters=5, n_init=10)\n",
    "labels = kmean.fit(data_df.drop(columns=[\"baboon_id\",\"season\",\"collection_date\"]).values).labels_"
   ]
  },
  {
   "cell_type": "code",
   "execution_count": null,
   "id": "ac660965",
   "metadata": {},
   "outputs": [],
   "source": [
    "\n",
    "feature_df = metadata_df[[\"sex\",\"baboon_id\",\"social_group\"]]\n",
    "px.parallel_categories(feature_df)\n"
   ]
  },
  {
   "cell_type": "code",
   "execution_count": null,
   "id": "02a3b127",
   "metadata": {},
   "outputs": [],
   "source": [
    "feature_df[\"baboon_id\"].values in [\"Baboon_101\"]"
   ]
  },
  {
   "cell_type": "code",
   "execution_count": null,
   "id": "721f632e",
   "metadata": {},
   "outputs": [],
   "source": [
    "from sklearn.decomposition import PCA\n",
    "pca = PCA(n_components=3)\n",
    "results = pd.DataFrame(pca.fit_transform(data_df_avg), columns=[\"PC1\", \"PC2\", \"PC3\"])"
   ]
  },
  {
   "cell_type": "code",
   "execution_count": null,
   "id": "48f6b0fa",
   "metadata": {},
   "outputs": [],
   "source": [
    "px.scatter_3d(results.iloc[:,:3], x=\"PC1\", y=\"PC2\", z=\"PC3\", color=labels)"
   ]
  },
  {
   "cell_type": "code",
   "execution_count": null,
   "id": "c7262972",
   "metadata": {},
   "outputs": [],
   "source": [
    "pca = PCA(n_components=2)\n",
    "results = pca.fit_transform(data_df_avg).transpose()\n",
    "\n",
    "plt.scatter(results[0], results[1], c=labels)\n",
    "plt.grid()\n",
    "plt.show()"
   ]
  },
  {
   "cell_type": "code",
   "execution_count": null,
   "id": "648fa380",
   "metadata": {},
   "outputs": [],
   "source": [
    "import umap"
   ]
  },
  {
   "cell_type": "code",
   "execution_count": null,
   "id": "28c9ba71",
   "metadata": {},
   "outputs": [],
   "source": [
    "reducer = umap.UMAP()\n",
    "results = reducer.fit_transform(data_df_avg.values).transpose()\n",
    "\n",
    "plt.scatter(results[0], results[1], c=labels)\n",
    "plt.grid()\n",
    "plt.show()"
   ]
  },
  {
   "cell_type": "code",
   "execution_count": null,
   "id": "8bbad4de",
   "metadata": {},
   "outputs": [],
   "source": [
    "metadata_df_F[\"season\"]"
   ]
  },
  {
   "cell_type": "code",
   "execution_count": null,
   "id": "2baa0787",
   "metadata": {},
   "outputs": [],
   "source": [
    "metadata_df_D_F = metadata_df_F[metadata_df_F[\"season\"]==\"dry\"]\n",
    "metadata_df_W_F = metadata_df_F[metadata_df_F[\"season\"]==\"wet\"]\n",
    "metadata_df_D_M = metadata_df_M[metadata_df_M[\"season\"]==\"dry\"]\n",
    "metadata_df_W_M = metadata_df_M[metadata_df_M[\"season\"]==\"wet\"]"
   ]
  },
  {
   "cell_type": "code",
   "execution_count": null,
   "id": "24283805",
   "metadata": {},
   "outputs": [],
   "source": [
    "data_df[\"season\"] = metadata_df[\"season\"]\n",
    "data_df_avg_season = data_df.groupby([\"baboon_id\",\"season\"]).mean()\n"
   ]
  },
  {
   "cell_type": "code",
   "execution_count": null,
   "id": "fc6cf96c",
   "metadata": {},
   "outputs": [],
   "source": [
    "data_df_avg_season"
   ]
  },
  {
   "cell_type": "code",
   "execution_count": null,
   "id": "4d1b635c",
   "metadata": {},
   "outputs": [],
   "source": [
    "metadata_df_M[\"baboon_id\"].unique()"
   ]
  },
  {
   "cell_type": "code",
   "execution_count": null,
   "id": "2474dc2b",
   "metadata": {},
   "outputs": [],
   "source": [
    "data_df_avg_M_D = data_df_avg_season.loc[(metadata_df_M[\"baboon_id\"].unique(),'dry'),:]\n",
    "data_df_avg_M_W = data_df_avg_season.loc[(metadata_df_M[\"baboon_id\"].unique(),'wet'),:]\n",
    "data_df_avg_F_D = data_df_avg_season.loc[(metadata_df_F[\"baboon_id\"].unique(),'dry'),:]\n",
    "data_df_avg_F_W = data_df_avg_season.loc[(metadata_df_F[\"baboon_id\"].unique(),'wet'),:]"
   ]
  },
  {
   "cell_type": "code",
   "execution_count": null,
   "id": "e544bdc0",
   "metadata": {},
   "outputs": [],
   "source": [
    "data_df_avg_M_D[\"sex\"] = 0\n",
    "data_df_avg_F_D[\"sex\"] = 1\n",
    "data_df_avg_M_W[\"sex\"] = 0\n",
    "data_df_avg_F_W[\"sex\"] = 1\n",
    "\n",
    "data_df_avg_D = pd.concat([data_df_avg_M_D, data_df_avg_F_D])\n",
    "data_df_avg_W = pd.concat([data_df_avg_M_W, data_df_avg_F_W])\n",
    "\n",
    "\n",
    "\n",
    "data_df_avg_D"
   ]
  },
  {
   "cell_type": "code",
   "execution_count": null,
   "id": "580e1124",
   "metadata": {},
   "outputs": [],
   "source": [
    "labels = data_df_avg_D[\"sex\"].values\n",
    "pca = PCA(n_components=3)\n",
    "results = pca.fit_transform(data_df_avg_D.drop(columns=\"sex\"))\n",
    "\n",
    "\n",
    "px.scatter_3d(pd.DataFrame(results, columns=[\"PC1\", \"PC2\", \"PC3\"]), x=\"PC1\", y=\"PC2\", z=\"PC3\", color=labels)\n",
    "\n"
   ]
  },
  {
   "cell_type": "code",
   "execution_count": null,
   "id": "27d3dbff",
   "metadata": {},
   "outputs": [],
   "source": [
    "reducer = umap.UMAP()\n",
    "results = reducer.fit_transform(data_df_avg_D.drop(columns=\"sex\").values).transpose()\n",
    "\n",
    "plt.scatter(results[0], results[1], c=labels)\n",
    "plt.grid()\n",
    "plt.show()"
   ]
  },
  {
   "cell_type": "code",
   "execution_count": null,
   "id": "897f1231",
   "metadata": {},
   "outputs": [],
   "source": [
    "labels = data_df_avg_W[\"sex\"].values\n",
    "pca = PCA(n_components=3)\n",
    "results = pca.fit_transform(data_df_avg_W.drop(columns=\"sex\"))\n",
    "\n",
    "\n",
    "px.scatter_3d(pd.DataFrame(results, columns=[\"PC1\", \"PC2\", \"PC3\"]), x=\"PC1\", y=\"PC2\", z=\"PC3\", color=labels)"
   ]
  },
  {
   "cell_type": "code",
   "execution_count": null,
   "id": "fbca7fae",
   "metadata": {},
   "outputs": [],
   "source": [
    "reducer = umap.UMAP()\n",
    "results = reducer.fit_transform(data_df_avg_W.drop(columns=\"sex\").values).transpose()\n",
    "plt.scatter(results[0], results[1], c=labels)\n",
    "plt.grid()\n",
    "plt.show()"
   ]
  },
  {
   "cell_type": "code",
   "execution_count": null,
   "id": "26dda99c",
   "metadata": {},
   "outputs": [],
   "source": [
    "[data_df_avg_season.reset_index()[\"season\"]=='dry']"
   ]
  },
  {
   "cell_type": "code",
   "execution_count": null,
   "id": "bb35d1d0",
   "metadata": {},
   "outputs": [],
   "source": [
    "labels = (data_df_avg_season.reset_index()[\"season\"]=='dry').astype(int).values\n",
    "pca = PCA(n_components=3)\n",
    "results = pca.fit_transform(data_df_avg_season)\n",
    "px.scatter_3d(pd.DataFrame(results, columns=[\"PC1\", \"PC2\", \"PC3\"]), x=\"PC1\", y=\"PC2\", z=\"PC3\", color=labels)\n",
    "\n"
   ]
  },
  {
   "cell_type": "code",
   "execution_count": null,
   "id": "b7d75927",
   "metadata": {},
   "outputs": [],
   "source": [
    "\n",
    "reducer = umap.UMAP()\n",
    "results = reducer.fit_transform(data_df_avg_season.values).transpose()\n",
    "\n",
    "plt.scatter(results[0], results[1], c=labels)\n",
    "plt.grid()\n",
    "plt.show()"
   ]
  },
  {
   "cell_type": "code",
   "execution_count": null,
   "id": "682914a2",
   "metadata": {},
   "outputs": [],
   "source": [
    "Df = data_df_avg_D.copy().reset_index(level=1, drop=True)\n",
    "Wf = data_df_avg_W.copy().reset_index(level=1, drop=True)"
   ]
  },
  {
   "cell_type": "code",
   "execution_count": null,
   "id": "9e4b7760",
   "metadata": {},
   "outputs": [],
   "source": [
    "diff = []\n",
    "\n",
    "for baboon in metadata_df[\"baboon_id\"].unique():\n",
    "    diff.append(Df.loc[baboon]- Wf.loc[baboon].values)\n",
    "diff = np.array(diff).T\n",
    "# avg = [diff[i].mean() for i in range(len(diff))]\n",
    "# avg.sort()\n",
    "# print(avg)\n",
    "\n",
    "# for row in np.array(diff).T:\n",
    "row = diff[22]\n",
    "row.sort()\n",
    "sns.kdeplot(row)\n",
    "plt.vlines(np.percentile(row, 2.5), ymin=0,ymax=100, color =\"black\", label=\"CI\")\n",
    "plt.vlines(np.percentile(row, 97.5), ymin=0,ymax=100, color =\"black\")\n",
    "plt.legend()\n",
    "plt.xlim(-0.05, 0.05)\n",
    "plt.show()\n"
   ]
  },
  {
   "cell_type": "markdown",
   "id": "e6fda895",
   "metadata": {},
   "source": [
    "### changes in samples throughout time for each baboon."
   ]
  },
  {
   "cell_type": "code",
   "execution_count": null,
   "id": "e0dc2153",
   "metadata": {},
   "outputs": [],
   "source": [
    "data_df[\"collection_date\"] = metadata_df[\"collection_date\"]\n",
    "data_df.sort_values(by=[\"baboon_id\",\"collection_date\"],inplace=True)"
   ]
  },
  {
   "cell_type": "code",
   "execution_count": null,
   "id": "fdeac770",
   "metadata": {},
   "outputs": [],
   "source": [
    "df = metadata_df[data_df[\"baboon_id\"]==\"Baboon_107\"]"
   ]
  },
  {
   "cell_type": "code",
   "execution_count": null,
   "id": "3467a0b2",
   "metadata": {},
   "outputs": [],
   "source": [
    "df.sort_values(\"collection_date\", inplace=True)\n",
    "df[\"collection_date\"]= pd.to_datetime(metadata_df['collection_date'])\n",
    "days_diff = df[\"collection_date\"].diff().values/np.timedelta64(1,\"D\")\n",
    "len(days_diff[days_diff>180])"
   ]
  },
  {
   "cell_type": "code",
   "execution_count": null,
   "id": "da67e1f0",
   "metadata": {},
   "outputs": [],
   "source": [
    "number_of_long_diffs = []\n",
    "l = []\n",
    "for baboon in metadata_df.baboon_id.unique():\n",
    "    df = metadata_df.loc[data_df[\"baboon_id\"]==baboon]\n",
    "    df = df.sort_values(\"collection_date\")\n",
    "    df[\"collection_date\"]= pd.to_datetime(metadata_df['collection_date'])\n",
    "    days_diff = df[\"collection_date\"].diff().values/np.timedelta64(1,\"D\")\n",
    "    np.asarray(days_diff>360).nonzero()\n",
    "    l.append(np.diff(np.concatenate([[0],np.asarray(days_diff>200).nonzero()[0], [len(days_diff)]])))\n",
    "    number_of_long_diffs.append(len(days_diff[days_diff>182]))\n",
    "\n",
    "number_of_long_diffs = np.array(number_of_long_diffs)"
   ]
  },
  {
   "cell_type": "code",
   "execution_count": null,
   "id": "d29712d4",
   "metadata": {},
   "outputs": [],
   "source": [
    "sns.barplot(x=range(max(number_of_long_diffs)+1), y=[len(number_of_long_diffs [number_of_long_diffs == i]) for i in range(max(number_of_long_diffs)+1)])\n",
    "plt.ylabel(\"Number of baboons\")\n",
    "plt.xlabel(\"Number of long gaps\")\n",
    "plt.title(\"Number of long gaps between samples\")\n",
    "plt.show()"
   ]
  },
  {
   "cell_type": "code",
   "execution_count": null,
   "id": "adbd34a2",
   "metadata": {},
   "outputs": [],
   "source": [
    "np.concatenate([[0],np.asarray(days_diff>182).nonzero()[0], [len(days_diff)]])"
   ]
  },
  {
   "cell_type": "code",
   "execution_count": null,
   "id": "2392868d",
   "metadata": {},
   "outputs": [],
   "source": [
    "np.asarray(days_diff>180).nonzero()"
   ]
  },
  {
   "cell_type": "code",
   "execution_count": null,
   "id": "8da55639",
   "metadata": {},
   "outputs": [],
   "source": [
    "np.diff(np.concatenate([[0],np.asarray(days_diff>180).nonzero()[0], [len(days_diff)]]))"
   ]
  },
  {
   "cell_type": "code",
   "execution_count": null,
   "id": "d910dc88",
   "metadata": {},
   "outputs": [],
   "source": [
    "np.diff"
   ]
  },
  {
   "cell_type": "code",
   "execution_count": null,
   "id": "df139e9e",
   "metadata": {},
   "outputs": [],
   "source": [
    "df.iloc[1:73]"
   ]
  },
  {
   "cell_type": "code",
   "execution_count": null,
   "id": "494a3748",
   "metadata": {},
   "outputs": [],
   "source": [
    "np.asarray(number_of_long_diffs==4).nonzero()"
   ]
  },
  {
   "cell_type": "code",
   "execution_count": null,
   "id": "7834e902",
   "metadata": {},
   "outputs": [],
   "source": [
    "sns.histplot(number_of_long_diffs, bins=[0.5,1.5,2.5,3.5,4.5,5.5,6.5,7.5,8.5,9.5,10.5])"
   ]
  },
  {
   "cell_type": "code",
   "execution_count": null,
   "id": "95eb3689",
   "metadata": {},
   "outputs": [],
   "source": [
    "df=df.drop(columns=[\"baboon_id\"])\n",
    "df.set_index(\"collection_date\")"
   ]
  },
  {
   "cell_type": "code",
   "execution_count": null,
   "id": "6cd5af9d",
   "metadata": {},
   "outputs": [],
   "source": []
  }
 ],
 "metadata": {
  "kernelspec": {
   "display_name": "Python 3 (ipykernel)",
   "language": "python",
   "name": "python3"
  },
  "language_info": {
   "codemirror_mode": {
    "name": "ipython",
    "version": 3
   },
   "file_extension": ".py",
   "mimetype": "text/x-python",
   "name": "python",
   "nbconvert_exporter": "python",
   "pygments_lexer": "ipython3",
   "version": "3.11.8"
  }
 },
 "nbformat": 4,
 "nbformat_minor": 5
}
