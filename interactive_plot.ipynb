{
 "cells": [
  {
   "cell_type": "code",
   "execution_count": 7,
   "metadata": {},
   "outputs": [],
   "source": [
    "from dash import Dash, dcc, html, Input, Output\n",
    "import plotly.express as px\n",
    "import numpy as np\n",
    "import pandas as pd\n",
    "from scipy.spatial.distance import braycurtis"
   ]
  },
  {
   "cell_type": "code",
   "execution_count": 8,
   "metadata": {},
   "outputs": [],
   "source": [
    "metadata_df = pd.read_csv(\"train_metadata.csv\", index_col=\"sample\")\n",
    "data_df = pd.read_csv(\"train_data.csv\",  index_col=\"sample\")\n",
    "metadata_df[\"collection_date\"] = (pd.to_datetime(metadata_df['collection_date']) - pd.Timestamp('1970-01-01')).dt.days"
   ]
  },
  {
   "cell_type": "code",
   "execution_count": 13,
   "metadata": {},
   "outputs": [],
   "source": [
    "microbiom_with_sample_data = data_df.join(metadata_df[[\"baboon_id\", \"collection_date\"]], how=\"inner\")\n",
    "microbiom_with_sample_data = microbiom_with_sample_data.sort_values([\"baboon_id\", \"collection_date\"])\n",
    "ls = []\n",
    "days =[]\n",
    "label = []\n",
    "for idx in range(len(microbiom_with_sample_data)-1):\n",
    "    curr = microbiom_with_sample_data.iloc[[idx]].values.reshape(-1)\n",
    "    next = microbiom_with_sample_data.iloc[[idx+1]].values.reshape(-1)\n",
    "    if(curr[-2] == next[-2]):    \n",
    "        ls.append(braycurtis(curr[:-2],next[:-2]))\n",
    "        label.append(curr[-2])\n",
    "        days.append(next[-1] - curr[-1])\n",
    "ls = np.array(ls)\n",
    "\n",
    "days = np.array(days)\n",
    "ls = np.array(ls)"
   ]
  },
  {
   "cell_type": "code",
   "execution_count": 14,
   "metadata": {},
   "outputs": [
    {
     "data": {
      "text/html": [
       "\n",
       "        <iframe\n",
       "            width=\"100%\"\n",
       "            height=\"650\"\n",
       "            src=\"http://127.0.0.1:8050/\"\n",
       "            frameborder=\"0\"\n",
       "            allowfullscreen\n",
       "            \n",
       "        ></iframe>\n",
       "        "
      ],
      "text/plain": [
       "<IPython.lib.display.IFrame at 0x2b5c3273750>"
      ]
     },
     "metadata": {},
     "output_type": "display_data"
    }
   ],
   "source": [
    "\n",
    "app = Dash(__name__)\n",
    "\n",
    "\n",
    "app.layout = html.Div([\n",
    "    html.H4('Interactive normal distribution'),\n",
    "    dcc.Graph(id=\"graph\"),\n",
    "    html.P(\"Min days:\"),\n",
    "    dcc.Slider(id=\"min days\", min=int(min(days)), max=int(max(days)), value=int((days.mean()-min(days)/2)), \n",
    "               marks={int(min(days)): f'{min(days)}', int(max(days)): f'{max(days)}'}),\n",
    "    html.P(\"Max days:\"),\n",
    "    dcc.Slider(id=\"max days\", min=int(min(days)), max=int(max(days)), value=int((days.mean()+max(days))/2), \n",
    "               marks={int(min(days)): f'{min(days)}', int(max(days)): f'{max(days)}'}),\n",
    "])\n",
    "\n",
    "\n",
    "@app.callback(\n",
    "    Output(\"graph\", \"figure\"), \n",
    "    Input(\"min days\", \"value\"), \n",
    "    Input(\"max days\", \"value\"))\n",
    "def display_color(min, max):\n",
    "    data = ls[(days >= min) & (days <= max)]\n",
    "    fig = px.histogram(data)\n",
    "    fig.update_layout(title=f\"Bray Curtis Distance Distribution min days: {min} max days: {max}\")\n",
    "    return fig\n",
    "app.run_server(debug=True)"
   ]
  },
  {
   "cell_type": "code",
   "execution_count": null,
   "metadata": {},
   "outputs": [],
   "source": []
  }
 ],
 "metadata": {
  "kernelspec": {
   "display_name": "Python 3",
   "language": "python",
   "name": "python3"
  },
  "language_info": {
   "codemirror_mode": {
    "name": "ipython",
    "version": 3
   },
   "file_extension": ".py",
   "mimetype": "text/x-python",
   "name": "python",
   "nbconvert_exporter": "python",
   "pygments_lexer": "ipython3",
   "version": "3.11.8"
  }
 },
 "nbformat": 4,
 "nbformat_minor": 2
}
